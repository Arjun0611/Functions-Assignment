{
 "cells": [
  {
   "cell_type": "code",
   "execution_count": 13,
   "id": "e57a3088-1c46-4709-b758-07f0c6a374ae",
   "metadata": {},
   "outputs": [],
   "source": [
    "#Q1. 'def' keyword is used to define a function\n",
    "def extract_odd():\n",
    "    empty_list = []\n",
    "    for i in range(1, 26):\n",
    "        if i % 2 != 0: \n",
    "            empty_list.append(i)\n",
    "    return empty_list"
   ]
  },
  {
   "cell_type": "code",
   "execution_count": 15,
   "id": "07d33656-9b95-4357-b95c-3ae12eebff03",
   "metadata": {},
   "outputs": [
    {
     "data": {
      "text/plain": [
       "[1, 3, 5, 7, 9, 11, 13, 15, 17, 19, 21, 23, 25]"
      ]
     },
     "execution_count": 15,
     "metadata": {},
     "output_type": "execute_result"
    }
   ],
   "source": [
    "extract_odd()"
   ]
  },
  {
   "cell_type": "code",
   "execution_count": 16,
   "id": "ac4291b1-fb48-4c6a-a458-ea8c16cf4dd7",
   "metadata": {},
   "outputs": [],
   "source": [
    "#Q2. # *args syntax allows a function to accept any number of positional arguments (i.e. it will be able to take n number of data at a time).\n",
    "# **kwargs syntax allows a function to accept any number of keyword arguments (i.e. we are able to pass key and values pair using this syntax)."
   ]
  },
  {
   "cell_type": "code",
   "execution_count": 20,
   "id": "f026c03c-e957-4151-993f-edbb14200c13",
   "metadata": {},
   "outputs": [],
   "source": [
    "# Illustration of args syntax in a function that calculates averga of n number of inputs\n",
    "def calculate_average(*args):\n",
    "    total = sum(args)\n",
    "    count = len(args)\n",
    "    if count > 0:\n",
    "        avg = total/count\n",
    "    return avg\n",
    "        "
   ]
  },
  {
   "cell_type": "code",
   "execution_count": 24,
   "id": "3e22dd33-f9db-43b9-9c5a-5a117f668f4c",
   "metadata": {},
   "outputs": [
    {
     "data": {
      "text/plain": [
       "60.0"
      ]
     },
     "execution_count": 24,
     "metadata": {},
     "output_type": "execute_result"
    }
   ],
   "source": [
    "calculate_average(32,58,76,42,92)"
   ]
  },
  {
   "cell_type": "code",
   "execution_count": 25,
   "id": "5b836821-f611-447a-a23a-407ed732516e",
   "metadata": {},
   "outputs": [],
   "source": [
    "# Illustration of kwargs syntax\n",
    "def create_person(**kwargs):\n",
    "    return kwargs"
   ]
  },
  {
   "cell_type": "code",
   "execution_count": 26,
   "id": "49ea3e07-a9eb-4c70-9b83-e4c36df6c1fa",
   "metadata": {},
   "outputs": [
    {
     "data": {
      "text/plain": [
       "{'Name': 'Arjun', 'Age': 27, 'Address': '4800 Highway 7, Vaughan, ON, L4L 1H8'}"
      ]
     },
     "execution_count": 26,
     "metadata": {},
     "output_type": "execute_result"
    }
   ],
   "source": [
    "create_person(Name = \"Arjun\", Age = 27, Address = \"4800 Highway 7, Vaughan, ON, L4L 1H8\")"
   ]
  },
  {
   "cell_type": "code",
   "execution_count": 6,
   "id": "3f5ad2a7-fda2-4e02-a8f1-819f83e09ee3",
   "metadata": {},
   "outputs": [
    {
     "name": "stdout",
     "output_type": "stream",
     "text": [
      "2 4 6 8 10 "
     ]
    }
   ],
   "source": [
    "\"\"\"Q3. In Python, an iterator allows iteration over a sequence of elements. \n",
    "For example, elements of a container, such as a list or a tuple, can be accessed one by one without the need to know the underlying implementation.\"\"\"\n",
    "\n",
    "# Initialization Method: To initialize an iterator object, the iter() function is used.\n",
    "# Iteration Method: The next() function is used to iterate over the elements of an iterator.\n",
    "#Additionally, iterators are used in a for loop, which handles the iteration process automatically and uses the next() function internally.\n",
    "\n",
    "given_list = [2, 4, 6, 8, 10, 12, 14, 16, 18, 20]\n",
    "example_iterator = iter(given_list)\n",
    "print(next(example_iterator), end = ' ')\n",
    "print(next(example_iterator), end = ' ')\n",
    "print(next(example_iterator), end = ' ')\n",
    "print(next(example_iterator), end = ' ')\n",
    "print(next(example_iterator), end = ' ')"
   ]
  },
  {
   "cell_type": "code",
   "execution_count": 26,
   "id": "e17463d8-2da4-4ff2-b990-0f238e9ba1d3",
   "metadata": {},
   "outputs": [],
   "source": [
    "#Q4. Generator function is a type of function that returns an iterator, which can be used to iterate over a sequence of elements.\n",
    "# The main difference between a generator function and a regular function is the use of the 'yield' keyword instead of the 'return' keyword.\n",
    "# For a generator function, aach time the yield statement is encountered, it pauses the execution, remembers the state, and returns the yielded value.\n",
    "# Consequently, the data won't be stored up in a memory when using the yield statement. So, it won't end up blocking the memory. Give it to you and forget.\n",
    "# Following is an example of generator function that represents a sequence calculating the powers of 2.\n",
    "def power_of_two(n):\n",
    "    a,b = 1,0\n",
    "    for i in range(n):\n",
    "        yield a\n",
    "        a,b = 2**(b+1),b+1"
   ]
  },
  {
   "cell_type": "code",
   "execution_count": 27,
   "id": "4d737e61-03db-4e9c-9713-00ce99358cbe",
   "metadata": {},
   "outputs": [
    {
     "name": "stdout",
     "output_type": "stream",
     "text": [
      "1\n",
      "2\n",
      "4\n",
      "8\n",
      "16\n",
      "32\n",
      "64\n",
      "128\n",
      "256\n",
      "512\n"
     ]
    }
   ],
   "source": [
    "for i in power_of_two(10):\n",
    "    print(i)"
   ]
  },
  {
   "cell_type": "code",
   "execution_count": 40,
   "id": "55415fbe-6f23-4484-90dc-a05e22c7104a",
   "metadata": {},
   "outputs": [],
   "source": [
    "#Q5.\n",
    "def generate_primes():\n",
    "    for i in range(2,1000):\n",
    "        is_prime = True\n",
    "        for divisor in range(2,int(i**0.5)+1):\n",
    "            if i%divisor == 0:\n",
    "                is_prime = False\n",
    "                break\n",
    "        if is_prime:\n",
    "            yield i   "
   ]
  },
  {
   "cell_type": "code",
   "execution_count": 42,
   "id": "9cc2a313-799f-4df5-923b-a522758cb45c",
   "metadata": {},
   "outputs": [
    {
     "name": "stdout",
     "output_type": "stream",
     "text": [
      "2\n",
      "3\n",
      "5\n",
      "7\n",
      "11\n",
      "13\n",
      "17\n",
      "19\n",
      "23\n",
      "29\n",
      "31\n",
      "37\n",
      "41\n",
      "43\n",
      "47\n",
      "53\n",
      "59\n",
      "61\n",
      "67\n",
      "71\n"
     ]
    }
   ],
   "source": [
    "prime_generator = generate_primes()\n",
    "for j in range(20):\n",
    "    prime = next(prime_generator)\n",
    "    print(prime)"
   ]
  }
 ],
 "metadata": {
  "kernelspec": {
   "display_name": "Python 3 (ipykernel)",
   "language": "python",
   "name": "python3"
  },
  "language_info": {
   "codemirror_mode": {
    "name": "ipython",
    "version": 3
   },
   "file_extension": ".py",
   "mimetype": "text/x-python",
   "name": "python",
   "nbconvert_exporter": "python",
   "pygments_lexer": "ipython3",
   "version": "3.10.8"
  }
 },
 "nbformat": 4,
 "nbformat_minor": 5
}
